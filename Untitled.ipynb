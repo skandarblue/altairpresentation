{
 "cells": [
  {
   "cell_type": "code",
   "execution_count": 4,
   "id": "4bcb1db9",
   "metadata": {},
   "outputs": [
    {
     "name": "stdout",
     "output_type": "stream",
     "text": [
      "Collecting altair\n",
      "  Obtaining dependency information for altair from https://files.pythonhosted.org/packages/17/16/b12fca347ff9d062e3c44ad9641d2ec50364570a059f3078ada3a5119d7a/altair-5.1.2-py3-none-any.whl.metadata\n",
      "  Downloading altair-5.1.2-py3-none-any.whl.metadata (8.6 kB)\n",
      "Requirement already satisfied: jinja2 in d:\\anaconda\\lib\\site-packages (from altair) (3.1.2)\n",
      "Requirement already satisfied: jsonschema>=3.0 in d:\\anaconda\\lib\\site-packages (from altair) (4.17.3)\n",
      "Requirement already satisfied: numpy in d:\\anaconda\\lib\\site-packages (from altair) (1.24.3)\n",
      "Requirement already satisfied: packaging in d:\\anaconda\\lib\\site-packages (from altair) (23.1)\n",
      "Requirement already satisfied: pandas>=0.25 in d:\\anaconda\\lib\\site-packages (from altair) (2.0.3)\n",
      "Requirement already satisfied: toolz in d:\\anaconda\\lib\\site-packages (from altair) (0.12.0)\n",
      "Requirement already satisfied: attrs>=17.4.0 in d:\\anaconda\\lib\\site-packages (from jsonschema>=3.0->altair) (22.1.0)\n",
      "Requirement already satisfied: pyrsistent!=0.17.0,!=0.17.1,!=0.17.2,>=0.14.0 in d:\\anaconda\\lib\\site-packages (from jsonschema>=3.0->altair) (0.18.0)\n",
      "Requirement already satisfied: python-dateutil>=2.8.2 in d:\\anaconda\\lib\\site-packages (from pandas>=0.25->altair) (2.8.2)\n",
      "Requirement already satisfied: pytz>=2020.1 in d:\\anaconda\\lib\\site-packages (from pandas>=0.25->altair) (2023.3.post1)\n",
      "Requirement already satisfied: tzdata>=2022.1 in d:\\anaconda\\lib\\site-packages (from pandas>=0.25->altair) (2023.3)\n",
      "Requirement already satisfied: MarkupSafe>=2.0 in d:\\anaconda\\lib\\site-packages (from jinja2->altair) (2.1.1)\n",
      "Requirement already satisfied: six>=1.5 in d:\\anaconda\\lib\\site-packages (from python-dateutil>=2.8.2->pandas>=0.25->altair) (1.16.0)\n",
      "Downloading altair-5.1.2-py3-none-any.whl (516 kB)\n",
      "   ---------------------------------------- 0.0/516.2 kB ? eta -:--:--\n",
      "   ---------------------------------------- 0.0/516.2 kB ? eta -:--:--\n",
      "    --------------------------------------- 10.2/516.2 kB ? eta -:--:--\n",
      "   -- ------------------------------------ 30.7/516.2 kB 325.1 kB/s eta 0:00:02\n",
      "   ---- ---------------------------------- 61.4/516.2 kB 409.6 kB/s eta 0:00:02\n",
      "   ------ -------------------------------- 92.2/516.2 kB 521.8 kB/s eta 0:00:01\n",
      "   ---------- --------------------------- 143.4/516.2 kB 607.9 kB/s eta 0:00:01\n",
      "   ----------------- -------------------- 235.5/516.2 kB 846.9 kB/s eta 0:00:01\n",
      "   ----------------------- -------------- 317.4/516.2 kB 981.5 kB/s eta 0:00:01\n",
      "   ------------------------------ --------- 399.4/516.2 kB 1.1 MB/s eta 0:00:01\n",
      "   ------------------------------------- -- 481.3/516.2 kB 1.2 MB/s eta 0:00:01\n",
      "   ---------------------------------------- 516.2/516.2 kB 1.1 MB/s eta 0:00:00\n",
      "Installing collected packages: altair\n",
      "Successfully installed altair-5.1.2\n",
      "Note: you may need to restart the kernel to use updated packages.\n"
     ]
    }
   ],
   "source": [
    "pip install altair"
   ]
  },
  {
   "cell_type": "code",
   "execution_count": 5,
   "id": "8d98b0cb",
   "metadata": {},
   "outputs": [
    {
     "name": "stdout",
     "output_type": "stream",
     "text": [
      "Requirement already satisfied: pandas in d:\\anaconda\\lib\\site-packages (2.0.3)\n",
      "Requirement already satisfied: python-dateutil>=2.8.2 in d:\\anaconda\\lib\\site-packages (from pandas) (2.8.2)\n",
      "Requirement already satisfied: pytz>=2020.1 in d:\\anaconda\\lib\\site-packages (from pandas) (2023.3.post1)\n",
      "Requirement already satisfied: tzdata>=2022.1 in d:\\anaconda\\lib\\site-packages (from pandas) (2023.3)\n",
      "Requirement already satisfied: numpy>=1.21.0 in d:\\anaconda\\lib\\site-packages (from pandas) (1.24.3)\n",
      "Requirement already satisfied: six>=1.5 in d:\\anaconda\\lib\\site-packages (from python-dateutil>=2.8.2->pandas) (1.16.0)\n",
      "Note: you may need to restart the kernel to use updated packages.\n"
     ]
    }
   ],
   "source": [
    "pip install pandas"
   ]
  },
  {
   "cell_type": "code",
   "execution_count": 2,
   "id": "425f1a6c",
   "metadata": {},
   "outputs": [],
   "source": [
    "import pandas as pd\n",
    "import altair as alt"
   ]
  },
  {
   "cell_type": "code",
   "execution_count": 3,
   "id": "9b95000a",
   "metadata": {},
   "outputs": [],
   "source": [
    "dbm = pd.read_csv('meteorite-landings.csv')"
   ]
  },
  {
   "cell_type": "code",
   "execution_count": 4,
   "id": "9732649b",
   "metadata": {},
   "outputs": [
    {
     "data": {
      "text/html": [
       "<div>\n",
       "<style scoped>\n",
       "    .dataframe tbody tr th:only-of-type {\n",
       "        vertical-align: middle;\n",
       "    }\n",
       "\n",
       "    .dataframe tbody tr th {\n",
       "        vertical-align: top;\n",
       "    }\n",
       "\n",
       "    .dataframe thead th {\n",
       "        text-align: right;\n",
       "    }\n",
       "</style>\n",
       "<table border=\"1\" class=\"dataframe\">\n",
       "  <thead>\n",
       "    <tr style=\"text-align: right;\">\n",
       "      <th></th>\n",
       "      <th>name</th>\n",
       "      <th>id</th>\n",
       "      <th>nametype</th>\n",
       "      <th>recclass</th>\n",
       "      <th>mass</th>\n",
       "      <th>fall</th>\n",
       "      <th>year</th>\n",
       "      <th>reclat</th>\n",
       "      <th>reclong</th>\n",
       "      <th>GeoLocation</th>\n",
       "    </tr>\n",
       "  </thead>\n",
       "  <tbody>\n",
       "    <tr>\n",
       "      <th>0</th>\n",
       "      <td>Aachen</td>\n",
       "      <td>1</td>\n",
       "      <td>Valid</td>\n",
       "      <td>L5</td>\n",
       "      <td>21.0</td>\n",
       "      <td>Fell</td>\n",
       "      <td>1880.0</td>\n",
       "      <td>50.77500</td>\n",
       "      <td>6.08333</td>\n",
       "      <td>(50.775000, 6.083330)</td>\n",
       "    </tr>\n",
       "    <tr>\n",
       "      <th>1</th>\n",
       "      <td>Aarhus</td>\n",
       "      <td>2</td>\n",
       "      <td>Valid</td>\n",
       "      <td>H6</td>\n",
       "      <td>720.0</td>\n",
       "      <td>Fell</td>\n",
       "      <td>1951.0</td>\n",
       "      <td>56.18333</td>\n",
       "      <td>10.23333</td>\n",
       "      <td>(56.183330, 10.233330)</td>\n",
       "    </tr>\n",
       "    <tr>\n",
       "      <th>2</th>\n",
       "      <td>Abee</td>\n",
       "      <td>6</td>\n",
       "      <td>Valid</td>\n",
       "      <td>EH4</td>\n",
       "      <td>107000.0</td>\n",
       "      <td>Fell</td>\n",
       "      <td>1952.0</td>\n",
       "      <td>54.21667</td>\n",
       "      <td>-113.00000</td>\n",
       "      <td>(54.216670, -113.000000)</td>\n",
       "    </tr>\n",
       "    <tr>\n",
       "      <th>3</th>\n",
       "      <td>Acapulco</td>\n",
       "      <td>10</td>\n",
       "      <td>Valid</td>\n",
       "      <td>Acapulcoite</td>\n",
       "      <td>1914.0</td>\n",
       "      <td>Fell</td>\n",
       "      <td>1976.0</td>\n",
       "      <td>16.88333</td>\n",
       "      <td>-99.90000</td>\n",
       "      <td>(16.883330, -99.900000)</td>\n",
       "    </tr>\n",
       "    <tr>\n",
       "      <th>4</th>\n",
       "      <td>Achiras</td>\n",
       "      <td>370</td>\n",
       "      <td>Valid</td>\n",
       "      <td>L6</td>\n",
       "      <td>780.0</td>\n",
       "      <td>Fell</td>\n",
       "      <td>1902.0</td>\n",
       "      <td>-33.16667</td>\n",
       "      <td>-64.95000</td>\n",
       "      <td>(-33.166670, -64.950000)</td>\n",
       "    </tr>\n",
       "  </tbody>\n",
       "</table>\n",
       "</div>"
      ],
      "text/plain": [
       "       name   id nametype     recclass      mass  fall    year    reclat  \\\n",
       "0    Aachen    1    Valid           L5      21.0  Fell  1880.0  50.77500   \n",
       "1    Aarhus    2    Valid           H6     720.0  Fell  1951.0  56.18333   \n",
       "2      Abee    6    Valid          EH4  107000.0  Fell  1952.0  54.21667   \n",
       "3  Acapulco   10    Valid  Acapulcoite    1914.0  Fell  1976.0  16.88333   \n",
       "4   Achiras  370    Valid           L6     780.0  Fell  1902.0 -33.16667   \n",
       "\n",
       "     reclong               GeoLocation  \n",
       "0    6.08333     (50.775000, 6.083330)  \n",
       "1   10.23333    (56.183330, 10.233330)  \n",
       "2 -113.00000  (54.216670, -113.000000)  \n",
       "3  -99.90000   (16.883330, -99.900000)  \n",
       "4  -64.95000  (-33.166670, -64.950000)  "
      ]
     },
     "execution_count": 4,
     "metadata": {},
     "output_type": "execute_result"
    }
   ],
   "source": [
    "dbm.head()"
   ]
  },
  {
   "cell_type": "code",
   "execution_count": 5,
   "id": "7576d90d",
   "metadata": {},
   "outputs": [],
   "source": [
    "isuniques = pd.Series(dbm['id']).is_unique"
   ]
  },
  {
   "cell_type": "code",
   "execution_count": 6,
   "id": "0d0b7c46",
   "metadata": {},
   "outputs": [
    {
     "name": "stdout",
     "output_type": "stream",
     "text": [
      "True\n"
     ]
    }
   ],
   "source": [
    "print(isuniques)"
   ]
  },
  {
   "cell_type": "code",
   "execution_count": 7,
   "id": "f04c3ea6",
   "metadata": {},
   "outputs": [
    {
     "data": {
      "text/plain": [
       "array([    1,     2,     6, ..., 30410, 31357, 30414], dtype=int64)"
      ]
     },
     "execution_count": 7,
     "metadata": {},
     "output_type": "execute_result"
    }
   ],
   "source": [
    "idunique = dbm['id'].unique()\n",
    "idunique"
   ]
  },
  {
   "cell_type": "code",
   "execution_count": 8,
   "id": "293dc848",
   "metadata": {},
   "outputs": [],
   "source": [
    "idcount = dbm['id'].value_counts()"
   ]
  },
  {
   "cell_type": "code",
   "execution_count": 9,
   "id": "d84e9b17",
   "metadata": {},
   "outputs": [
    {
     "data": {
      "text/plain": [
       "id\n",
       "1        1\n",
       "56120    1\n",
       "17820    1\n",
       "55776    1\n",
       "55777    1\n",
       "        ..\n",
       "46973    1\n",
       "48289    1\n",
       "50382    1\n",
       "50383    1\n",
       "30414    1\n",
       "Name: count, Length: 45716, dtype: int64"
      ]
     },
     "execution_count": 9,
     "metadata": {},
     "output_type": "execute_result"
    }
   ],
   "source": [
    "idcount"
   ]
  },
  {
   "cell_type": "code",
   "execution_count": 10,
   "id": "0b9c18d4",
   "metadata": {},
   "outputs": [
    {
     "ename": "NameError",
     "evalue": "name 'idcounts' is not defined",
     "output_type": "error",
     "traceback": [
      "\u001b[1;31m---------------------------------------------------------------------------\u001b[0m",
      "\u001b[1;31mNameError\u001b[0m                                 Traceback (most recent call last)",
      "Cell \u001b[1;32mIn[10], line 1\u001b[0m\n\u001b[1;32m----> 1\u001b[0m idcounts\u001b[38;5;241m.\u001b[39msort_values(ascending \u001b[38;5;241m=\u001b[39m \u001b[38;5;28;01mTrue\u001b[39;00m)\n",
      "\u001b[1;31mNameError\u001b[0m: name 'idcounts' is not defined"
     ]
    }
   ],
   "source": [
    "idcounts.sort_values(ascending = True)"
   ]
  },
  {
   "cell_type": "code",
   "execution_count": 11,
   "id": "bd4e5540",
   "metadata": {},
   "outputs": [
    {
     "data": {
      "text/plain": [
       "array(['Fell', 'Found'], dtype=object)"
      ]
     },
     "execution_count": 11,
     "metadata": {},
     "output_type": "execute_result"
    }
   ],
   "source": [
    "fallunique = dbm['fall'].unique()\n",
    "fallunique"
   ]
  },
  {
   "cell_type": "code",
   "execution_count": 12,
   "id": "a8220db6",
   "metadata": {},
   "outputs": [
    {
     "data": {
      "text/plain": [
       "array([1880., 1951., 1952., 1976., 1902., 1919., 1949., 1814., 1930.,\n",
       "       1920., 1974., 1925., 1769., 1838., 1959., 1981., 1957., 2001.,\n",
       "       1806., 1766., 2002., 1835., 1873., 1860., 1900., 1883., 1899.,\n",
       "       1969., 2008., 1977., 1895., 1898., 1939.,   nan, 1822., 1869.,\n",
       "       1942., 1971., 1984., 1914., 1803., 1954., 1932., 1950., 1805.,\n",
       "       2009., 1923., 1886., 1896., 1933., 1945., 1836., 1865., 1842.,\n",
       "       1858., 1908., 1855., 1968., 1938., 1934., 1929., 1922., 1907.,\n",
       "       1993., 1871., 1892., 1913., 1790., 1704., 1904., 1910., 1965.,\n",
       "       2006., 1994., 2012., 1989., 1916., 1893., 1961., 1937., 1798.,\n",
       "       2004., 1943., 1924., 1811., 1859., 1921., 1877., 1940., 1905.,\n",
       "       1827., 1887., 1999., 1843., 1796., 1941., 1906., 1909., 1833.,\n",
       "       1804., 1962., 1808., 1894., 1852., 1812., 1823., 2003., 2011.,\n",
       "       1847., 1956., 1960., 1964., 2007., 1990., 1946., 1863., 1861.,\n",
       "       1870., 1991., 1866., 1973., 1846., 1874., 1791., 1848., 1583.,\n",
       "       1810., 1988., 1840., 1998., 1885., 1834., 1815., 1841., 2013.,\n",
       "       1901., 1966., 1978., 1979., 1917., 1890., 1844., 1936., 1878.,\n",
       "       1868., 1829., 1897., 1911., 1967., 1884., 1903., 1864., 1995.,\n",
       "       1970., 1853., 1872., 1947., 1785., 1399., 1491., 1889., 1837.,\n",
       "       1879., 1875., 1996., 1944., 1882., 1654., 1826., 2000., 1918.,\n",
       "       1881., 1983., 1980., 1891., 1972., 1982., 1851., 1817., 1628.,\n",
       "       1857., 1912., 1825., 1963., 1751., 2010., 1975., 1928., 1926.,\n",
       "       1621., 1819., 1997., 1876., 1821., 1955., 1850., 1787., 1867.,\n",
       "       1809., 1986., 1931., 1985., 1987., 1830., 1845., 1813., 1854.,\n",
       "       1839., 1820., 1935., 1768., 1753., 1927., 1948., 1801., 1992.,\n",
       "       1953., 1915., 1862., 1632., 1849., 1637., 1795.,  920., 1750.,\n",
       "        860., 1662., 1741., 1958., 1519., 1671., 1856., 1775., 1779.,\n",
       "       1723., 1740., 1824., 1828., 1490., 1636., 1688., 1715., 1773.,\n",
       "       1818., 1794., 1647., 1623., 1807., 1668., 1495., 1831., 2005.,\n",
       "       1888., 1784., 1575., 1793.,  301., 1749., 1781., 1600., 2101.,\n",
       "       1797., 1716., 1724., 1776., 2501., 1832.,  601., 1792.])"
      ]
     },
     "execution_count": 12,
     "metadata": {},
     "output_type": "execute_result"
    }
   ],
   "source": [
    "yearunique = dbm['year'].unique()\n",
    "yearunique"
   ]
  },
  {
   "cell_type": "code",
   "execution_count": 13,
   "id": "1e1f2b25",
   "metadata": {},
   "outputs": [
    {
     "data": {
      "text/plain": [
       "array(['Valid', 'Relict'], dtype=object)"
      ]
     },
     "execution_count": 13,
     "metadata": {},
     "output_type": "execute_result"
    }
   ],
   "source": [
    "nametypeunique = dbm['nametype'].unique()\n",
    "nametypeunique"
   ]
  },
  {
   "cell_type": "code",
   "execution_count": 14,
   "id": "7e0971ab",
   "metadata": {},
   "outputs": [
    {
     "data": {
      "text/plain": [
       "nametype\n",
       "Valid     45641\n",
       "Relict       75\n",
       "Name: count, dtype: int64"
      ]
     },
     "execution_count": 14,
     "metadata": {},
     "output_type": "execute_result"
    }
   ],
   "source": [
    "nametypecount = dbm['nametype'].value_counts()\n",
    "nametypecount"
   ]
  },
  {
   "cell_type": "code",
   "execution_count": 15,
   "id": "e6e521b3",
   "metadata": {},
   "outputs": [
    {
     "data": {
      "text/plain": [
       "fall\n",
       "Found    44609\n",
       "Fell      1107\n",
       "Name: count, dtype: int64"
      ]
     },
     "execution_count": 15,
     "metadata": {},
     "output_type": "execute_result"
    }
   ],
   "source": [
    "fallcount = dbm['fall'].value_counts()\n",
    "fallcount"
   ]
  },
  {
   "cell_type": "code",
   "execution_count": 16,
   "id": "e4bb6a4d",
   "metadata": {},
   "outputs": [
    {
     "data": {
      "text/plain": [
       "name           0\n",
       "id             0\n",
       "nametype       0\n",
       "recclass       0\n",
       "mass           2\n",
       "fall           0\n",
       "year           0\n",
       "reclat         0\n",
       "reclong        0\n",
       "GeoLocation    0\n",
       "dtype: int64"
      ]
     },
     "execution_count": 16,
     "metadata": {},
     "output_type": "execute_result"
    }
   ],
   "source": [
    "wrongyears = dbm.loc[(dbm['year'] < 860) | (dbm['year'] > 2016)]\n",
    "wrongyears.isnull().sum()"
   ]
  },
  {
   "cell_type": "code",
   "execution_count": 17,
   "id": "da9e0b92",
   "metadata": {
    "scrolled": true
   },
   "outputs": [
    {
     "data": {
      "text/html": [
       "<div>\n",
       "<style scoped>\n",
       "    .dataframe tbody tr th:only-of-type {\n",
       "        vertical-align: middle;\n",
       "    }\n",
       "\n",
       "    .dataframe tbody tr th {\n",
       "        vertical-align: top;\n",
       "    }\n",
       "\n",
       "    .dataframe thead th {\n",
       "        text-align: right;\n",
       "    }\n",
       "</style>\n",
       "<table border=\"1\" class=\"dataframe\">\n",
       "  <thead>\n",
       "    <tr style=\"text-align: right;\">\n",
       "      <th></th>\n",
       "      <th>name</th>\n",
       "      <th>id</th>\n",
       "      <th>nametype</th>\n",
       "      <th>recclass</th>\n",
       "      <th>mass</th>\n",
       "      <th>fall</th>\n",
       "      <th>year</th>\n",
       "      <th>reclat</th>\n",
       "      <th>reclong</th>\n",
       "      <th>GeoLocation</th>\n",
       "    </tr>\n",
       "  </thead>\n",
       "  <tbody>\n",
       "    <tr>\n",
       "      <th>37</th>\n",
       "      <td>Northwest Africa 5815</td>\n",
       "      <td>50693</td>\n",
       "      <td>Valid</td>\n",
       "      <td>L5</td>\n",
       "      <td>256.80</td>\n",
       "      <td>Found</td>\n",
       "      <td>NaN</td>\n",
       "      <td>0.0</td>\n",
       "      <td>0.0</td>\n",
       "      <td>(0.000000, 0.000000)</td>\n",
       "    </tr>\n",
       "    <tr>\n",
       "      <th>596</th>\n",
       "      <td>Mason Gully</td>\n",
       "      <td>53653</td>\n",
       "      <td>Valid</td>\n",
       "      <td>H5</td>\n",
       "      <td>24.54</td>\n",
       "      <td>Fell</td>\n",
       "      <td>2010.0</td>\n",
       "      <td>0.0</td>\n",
       "      <td>0.0</td>\n",
       "      <td>(0.000000, 0.000000)</td>\n",
       "    </tr>\n",
       "    <tr>\n",
       "      <th>1648</th>\n",
       "      <td>Allan Hills 09004</td>\n",
       "      <td>52119</td>\n",
       "      <td>Valid</td>\n",
       "      <td>Howardite</td>\n",
       "      <td>221.70</td>\n",
       "      <td>Found</td>\n",
       "      <td>2009.0</td>\n",
       "      <td>0.0</td>\n",
       "      <td>0.0</td>\n",
       "      <td>(0.000000, 0.000000)</td>\n",
       "    </tr>\n",
       "    <tr>\n",
       "      <th>1649</th>\n",
       "      <td>Allan Hills 09005</td>\n",
       "      <td>55797</td>\n",
       "      <td>Valid</td>\n",
       "      <td>L5</td>\n",
       "      <td>122.30</td>\n",
       "      <td>Found</td>\n",
       "      <td>2009.0</td>\n",
       "      <td>0.0</td>\n",
       "      <td>0.0</td>\n",
       "      <td>(0.000000, 0.000000)</td>\n",
       "    </tr>\n",
       "    <tr>\n",
       "      <th>1650</th>\n",
       "      <td>Allan Hills 09006</td>\n",
       "      <td>55798</td>\n",
       "      <td>Valid</td>\n",
       "      <td>H5</td>\n",
       "      <td>104.30</td>\n",
       "      <td>Found</td>\n",
       "      <td>2009.0</td>\n",
       "      <td>0.0</td>\n",
       "      <td>0.0</td>\n",
       "      <td>(0.000000, 0.000000)</td>\n",
       "    </tr>\n",
       "    <tr>\n",
       "      <th>...</th>\n",
       "      <td>...</td>\n",
       "      <td>...</td>\n",
       "      <td>...</td>\n",
       "      <td>...</td>\n",
       "      <td>...</td>\n",
       "      <td>...</td>\n",
       "      <td>...</td>\n",
       "      <td>...</td>\n",
       "      <td>...</td>\n",
       "      <td>...</td>\n",
       "    </tr>\n",
       "    <tr>\n",
       "      <th>45655</th>\n",
       "      <td>Yamato 984144</td>\n",
       "      <td>40764</td>\n",
       "      <td>Valid</td>\n",
       "      <td>H6</td>\n",
       "      <td>37.44</td>\n",
       "      <td>Found</td>\n",
       "      <td>1998.0</td>\n",
       "      <td>0.0</td>\n",
       "      <td>0.0</td>\n",
       "      <td>(0.000000, 0.000000)</td>\n",
       "    </tr>\n",
       "    <tr>\n",
       "      <th>45656</th>\n",
       "      <td>Yamato 984145</td>\n",
       "      <td>40765</td>\n",
       "      <td>Valid</td>\n",
       "      <td>L6</td>\n",
       "      <td>54.80</td>\n",
       "      <td>Found</td>\n",
       "      <td>1998.0</td>\n",
       "      <td>0.0</td>\n",
       "      <td>0.0</td>\n",
       "      <td>(0.000000, 0.000000)</td>\n",
       "    </tr>\n",
       "    <tr>\n",
       "      <th>45657</th>\n",
       "      <td>Yamato 984146</td>\n",
       "      <td>40766</td>\n",
       "      <td>Valid</td>\n",
       "      <td>H3</td>\n",
       "      <td>19.32</td>\n",
       "      <td>Found</td>\n",
       "      <td>1998.0</td>\n",
       "      <td>0.0</td>\n",
       "      <td>0.0</td>\n",
       "      <td>(0.000000, 0.000000)</td>\n",
       "    </tr>\n",
       "    <tr>\n",
       "      <th>45658</th>\n",
       "      <td>Yamato 984147</td>\n",
       "      <td>40767</td>\n",
       "      <td>Valid</td>\n",
       "      <td>LL6</td>\n",
       "      <td>118.90</td>\n",
       "      <td>Found</td>\n",
       "      <td>1998.0</td>\n",
       "      <td>0.0</td>\n",
       "      <td>0.0</td>\n",
       "      <td>(0.000000, 0.000000)</td>\n",
       "    </tr>\n",
       "    <tr>\n",
       "      <th>45659</th>\n",
       "      <td>Yamato 984148</td>\n",
       "      <td>40768</td>\n",
       "      <td>Valid</td>\n",
       "      <td>L5</td>\n",
       "      <td>4.59</td>\n",
       "      <td>Found</td>\n",
       "      <td>1998.0</td>\n",
       "      <td>0.0</td>\n",
       "      <td>0.0</td>\n",
       "      <td>(0.000000, 0.000000)</td>\n",
       "    </tr>\n",
       "  </tbody>\n",
       "</table>\n",
       "<p>6215 rows × 10 columns</p>\n",
       "</div>"
      ],
      "text/plain": [
       "                        name     id nametype   recclass    mass   fall  \\\n",
       "37     Northwest Africa 5815  50693    Valid         L5  256.80  Found   \n",
       "596              Mason Gully  53653    Valid         H5   24.54   Fell   \n",
       "1648       Allan Hills 09004  52119    Valid  Howardite  221.70  Found   \n",
       "1649       Allan Hills 09005  55797    Valid         L5  122.30  Found   \n",
       "1650       Allan Hills 09006  55798    Valid         H5  104.30  Found   \n",
       "...                      ...    ...      ...        ...     ...    ...   \n",
       "45655          Yamato 984144  40764    Valid         H6   37.44  Found   \n",
       "45656          Yamato 984145  40765    Valid         L6   54.80  Found   \n",
       "45657          Yamato 984146  40766    Valid         H3   19.32  Found   \n",
       "45658          Yamato 984147  40767    Valid        LL6  118.90  Found   \n",
       "45659          Yamato 984148  40768    Valid         L5    4.59  Found   \n",
       "\n",
       "         year  reclat  reclong           GeoLocation  \n",
       "37        NaN     0.0      0.0  (0.000000, 0.000000)  \n",
       "596    2010.0     0.0      0.0  (0.000000, 0.000000)  \n",
       "1648   2009.0     0.0      0.0  (0.000000, 0.000000)  \n",
       "1649   2009.0     0.0      0.0  (0.000000, 0.000000)  \n",
       "1650   2009.0     0.0      0.0  (0.000000, 0.000000)  \n",
       "...       ...     ...      ...                   ...  \n",
       "45655  1998.0     0.0      0.0  (0.000000, 0.000000)  \n",
       "45656  1998.0     0.0      0.0  (0.000000, 0.000000)  \n",
       "45657  1998.0     0.0      0.0  (0.000000, 0.000000)  \n",
       "45658  1998.0     0.0      0.0  (0.000000, 0.000000)  \n",
       "45659  1998.0     0.0      0.0  (0.000000, 0.000000)  \n",
       "\n",
       "[6215 rows x 10 columns]"
      ]
     },
     "execution_count": 17,
     "metadata": {},
     "output_type": "execute_result"
    }
   ],
   "source": [
    "wrongloc = dbm.loc[(dbm['reclong'] > 180) | (dbm['reclong'] < -180) | (dbm['reclat'] == 0) & (dbm['reclong'] == 0)]\n",
    "wrongloc"
   ]
  },
  {
   "cell_type": "code",
   "execution_count": 18,
   "id": "da699ef3",
   "metadata": {},
   "outputs": [],
   "source": [
    "dbm = dbm[(dbm['reclong']<= 180) & dbm['reclong']>=-180]\n",
    "dbm = dbm[(dbm['reclat']!=0) | (dbm['reclong']!= 0)]"
   ]
  },
  {
   "cell_type": "code",
   "execution_count": 19,
   "id": "1512517a",
   "metadata": {},
   "outputs": [
    {
     "ename": "NameError",
     "evalue": "name 'dbmcleaned' is not defined",
     "output_type": "error",
     "traceback": [
      "\u001b[1;31m---------------------------------------------------------------------------\u001b[0m",
      "\u001b[1;31mNameError\u001b[0m                                 Traceback (most recent call last)",
      "Cell \u001b[1;32mIn[19], line 1\u001b[0m\n\u001b[1;32m----> 1\u001b[0m fallcount \u001b[38;5;241m=\u001b[39m dbmcleaned[\u001b[38;5;124m'\u001b[39m\u001b[38;5;124mfall\u001b[39m\u001b[38;5;124m'\u001b[39m]\u001b[38;5;241m.\u001b[39mvalue_counts()\n\u001b[0;32m      2\u001b[0m fallcount\n",
      "\u001b[1;31mNameError\u001b[0m: name 'dbmcleaned' is not defined"
     ]
    }
   ],
   "source": [
    "fallcount = dbmcleaned['fall'].value_counts()\n",
    "fallcount"
   ]
  },
  {
   "cell_type": "code",
   "execution_count": 20,
   "id": "4f6eff8b",
   "metadata": {},
   "outputs": [],
   "source": [
    "dbm = dbm.dropna(subset = ['reclat'])"
   ]
  },
  {
   "cell_type": "code",
   "execution_count": 21,
   "id": "85410469",
   "metadata": {},
   "outputs": [
    {
     "data": {
      "text/plain": [
       "fall\n",
       "Found    31091\n",
       "Fell      1096\n",
       "Name: count, dtype: int64"
      ]
     },
     "execution_count": 21,
     "metadata": {},
     "output_type": "execute_result"
    }
   ],
   "source": [
    "fallcount = dbm['fall'].value_counts()\n",
    "fallcount"
   ]
  },
  {
   "cell_type": "code",
   "execution_count": 22,
   "id": "a411932e",
   "metadata": {},
   "outputs": [
    {
     "data": {
      "text/plain": [
       "name             0\n",
       "id               0\n",
       "nametype         0\n",
       "recclass         0\n",
       "mass           119\n",
       "fall             0\n",
       "year           147\n",
       "reclat           0\n",
       "reclong          0\n",
       "GeoLocation      0\n",
       "dtype: int64"
      ]
     },
     "execution_count": 22,
     "metadata": {},
     "output_type": "execute_result"
    }
   ],
   "source": [
    "dbm.isnull().sum()"
   ]
  },
  {
   "cell_type": "code",
   "execution_count": 27,
   "id": "e3a6baac",
   "metadata": {},
   "outputs": [
    {
     "data": {
      "text/html": [
       "<div>\n",
       "<style scoped>\n",
       "    .dataframe tbody tr th:only-of-type {\n",
       "        vertical-align: middle;\n",
       "    }\n",
       "\n",
       "    .dataframe tbody tr th {\n",
       "        vertical-align: top;\n",
       "    }\n",
       "\n",
       "    .dataframe thead th {\n",
       "        text-align: right;\n",
       "    }\n",
       "</style>\n",
       "<table border=\"1\" class=\"dataframe\">\n",
       "  <thead>\n",
       "    <tr style=\"text-align: right;\">\n",
       "      <th></th>\n",
       "      <th>name</th>\n",
       "      <th>id</th>\n",
       "      <th>nametype</th>\n",
       "      <th>recclass</th>\n",
       "      <th>mass</th>\n",
       "      <th>fall</th>\n",
       "      <th>year</th>\n",
       "      <th>reclat</th>\n",
       "      <th>reclong</th>\n",
       "      <th>GeoLocation</th>\n",
       "    </tr>\n",
       "  </thead>\n",
       "  <tbody>\n",
       "    <tr>\n",
       "      <th>0</th>\n",
       "      <td>Aachen</td>\n",
       "      <td>1</td>\n",
       "      <td>Valid</td>\n",
       "      <td>L5</td>\n",
       "      <td>21.0</td>\n",
       "      <td>Fell</td>\n",
       "      <td>1880.0</td>\n",
       "      <td>50.77500</td>\n",
       "      <td>6.08333</td>\n",
       "      <td>(50.775000, 6.083330)</td>\n",
       "    </tr>\n",
       "    <tr>\n",
       "      <th>1</th>\n",
       "      <td>Aarhus</td>\n",
       "      <td>2</td>\n",
       "      <td>Valid</td>\n",
       "      <td>H6</td>\n",
       "      <td>720.0</td>\n",
       "      <td>Fell</td>\n",
       "      <td>1951.0</td>\n",
       "      <td>56.18333</td>\n",
       "      <td>10.23333</td>\n",
       "      <td>(56.183330, 10.233330)</td>\n",
       "    </tr>\n",
       "    <tr>\n",
       "      <th>2</th>\n",
       "      <td>Abee</td>\n",
       "      <td>6</td>\n",
       "      <td>Valid</td>\n",
       "      <td>EH4</td>\n",
       "      <td>107000.0</td>\n",
       "      <td>Fell</td>\n",
       "      <td>1952.0</td>\n",
       "      <td>54.21667</td>\n",
       "      <td>-113.00000</td>\n",
       "      <td>(54.216670, -113.000000)</td>\n",
       "    </tr>\n",
       "    <tr>\n",
       "      <th>3</th>\n",
       "      <td>Acapulco</td>\n",
       "      <td>10</td>\n",
       "      <td>Valid</td>\n",
       "      <td>Acapulcoite</td>\n",
       "      <td>1914.0</td>\n",
       "      <td>Fell</td>\n",
       "      <td>1976.0</td>\n",
       "      <td>16.88333</td>\n",
       "      <td>-99.90000</td>\n",
       "      <td>(16.883330, -99.900000)</td>\n",
       "    </tr>\n",
       "    <tr>\n",
       "      <th>4</th>\n",
       "      <td>Achiras</td>\n",
       "      <td>370</td>\n",
       "      <td>Valid</td>\n",
       "      <td>L6</td>\n",
       "      <td>780.0</td>\n",
       "      <td>Fell</td>\n",
       "      <td>1902.0</td>\n",
       "      <td>-33.16667</td>\n",
       "      <td>-64.95000</td>\n",
       "      <td>(-33.166670, -64.950000)</td>\n",
       "    </tr>\n",
       "  </tbody>\n",
       "</table>\n",
       "</div>"
      ],
      "text/plain": [
       "       name   id nametype     recclass      mass  fall    year    reclat  \\\n",
       "0    Aachen    1    Valid           L5      21.0  Fell  1880.0  50.77500   \n",
       "1    Aarhus    2    Valid           H6     720.0  Fell  1951.0  56.18333   \n",
       "2      Abee    6    Valid          EH4  107000.0  Fell  1952.0  54.21667   \n",
       "3  Acapulco   10    Valid  Acapulcoite    1914.0  Fell  1976.0  16.88333   \n",
       "4   Achiras  370    Valid           L6     780.0  Fell  1902.0 -33.16667   \n",
       "\n",
       "     reclong               GeoLocation  \n",
       "0    6.08333     (50.775000, 6.083330)  \n",
       "1   10.23333    (56.183330, 10.233330)  \n",
       "2 -113.00000  (54.216670, -113.000000)  \n",
       "3  -99.90000   (16.883330, -99.900000)  \n",
       "4  -64.95000  (-33.166670, -64.950000)  "
      ]
     },
     "execution_count": 27,
     "metadata": {},
     "output_type": "execute_result"
    }
   ],
   "source": [
    "dbm.head()"
   ]
  },
  {
   "cell_type": "code",
   "execution_count": 23,
   "id": "45dd50c4",
   "metadata": {},
   "outputs": [],
   "source": [
    "chart1 = alt.Chart(dbm)"
   ]
  },
  {
   "cell_type": "code",
   "execution_count": 26,
   "id": "6f02c401",
   "metadata": {},
   "outputs": [],
   "source": [
    "dbm.to_csv('teste.csv')"
   ]
  },
  {
   "cell_type": "code",
   "execution_count": 24,
   "id": "ab83e648",
   "metadata": {},
   "outputs": [],
   "source": [
    "dbm = dbm.dropna(subset = ['mass'])"
   ]
  },
  {
   "cell_type": "code",
   "execution_count": 25,
   "id": "abb65ab0",
   "metadata": {},
   "outputs": [],
   "source": [
    "dbm = dbm.dropna(subset = ['year'])"
   ]
  },
  {
   "cell_type": "code",
   "execution_count": 29,
   "id": "2de5e9c1",
   "metadata": {},
   "outputs": [],
   "source": [
    "dbm.loc[:,'year'] = pd.to_datetime(dbm.loc[:,'year']).dt.to_period('Y')"
   ]
  },
  {
   "cell_type": "code",
   "execution_count": 30,
   "id": "2dddd280",
   "metadata": {},
   "outputs": [
    {
     "data": {
      "text/html": [
       "<div>\n",
       "<style scoped>\n",
       "    .dataframe tbody tr th:only-of-type {\n",
       "        vertical-align: middle;\n",
       "    }\n",
       "\n",
       "    .dataframe tbody tr th {\n",
       "        vertical-align: top;\n",
       "    }\n",
       "\n",
       "    .dataframe thead th {\n",
       "        text-align: right;\n",
       "    }\n",
       "</style>\n",
       "<table border=\"1\" class=\"dataframe\">\n",
       "  <thead>\n",
       "    <tr style=\"text-align: right;\">\n",
       "      <th></th>\n",
       "      <th>name</th>\n",
       "      <th>id</th>\n",
       "      <th>nametype</th>\n",
       "      <th>recclass</th>\n",
       "      <th>mass</th>\n",
       "      <th>fall</th>\n",
       "      <th>year</th>\n",
       "      <th>reclat</th>\n",
       "      <th>reclong</th>\n",
       "      <th>GeoLocation</th>\n",
       "    </tr>\n",
       "  </thead>\n",
       "  <tbody>\n",
       "    <tr>\n",
       "      <th>0</th>\n",
       "      <td>Aachen</td>\n",
       "      <td>1</td>\n",
       "      <td>Valid</td>\n",
       "      <td>L5</td>\n",
       "      <td>21.0</td>\n",
       "      <td>Fell</td>\n",
       "      <td>1970</td>\n",
       "      <td>50.77500</td>\n",
       "      <td>6.08333</td>\n",
       "      <td>(50.775000, 6.083330)</td>\n",
       "    </tr>\n",
       "    <tr>\n",
       "      <th>1</th>\n",
       "      <td>Aarhus</td>\n",
       "      <td>2</td>\n",
       "      <td>Valid</td>\n",
       "      <td>H6</td>\n",
       "      <td>720.0</td>\n",
       "      <td>Fell</td>\n",
       "      <td>1970</td>\n",
       "      <td>56.18333</td>\n",
       "      <td>10.23333</td>\n",
       "      <td>(56.183330, 10.233330)</td>\n",
       "    </tr>\n",
       "    <tr>\n",
       "      <th>2</th>\n",
       "      <td>Abee</td>\n",
       "      <td>6</td>\n",
       "      <td>Valid</td>\n",
       "      <td>EH4</td>\n",
       "      <td>107000.0</td>\n",
       "      <td>Fell</td>\n",
       "      <td>1970</td>\n",
       "      <td>54.21667</td>\n",
       "      <td>-113.00000</td>\n",
       "      <td>(54.216670, -113.000000)</td>\n",
       "    </tr>\n",
       "    <tr>\n",
       "      <th>3</th>\n",
       "      <td>Acapulco</td>\n",
       "      <td>10</td>\n",
       "      <td>Valid</td>\n",
       "      <td>Acapulcoite</td>\n",
       "      <td>1914.0</td>\n",
       "      <td>Fell</td>\n",
       "      <td>1970</td>\n",
       "      <td>16.88333</td>\n",
       "      <td>-99.90000</td>\n",
       "      <td>(16.883330, -99.900000)</td>\n",
       "    </tr>\n",
       "    <tr>\n",
       "      <th>4</th>\n",
       "      <td>Achiras</td>\n",
       "      <td>370</td>\n",
       "      <td>Valid</td>\n",
       "      <td>L6</td>\n",
       "      <td>780.0</td>\n",
       "      <td>Fell</td>\n",
       "      <td>1970</td>\n",
       "      <td>-33.16667</td>\n",
       "      <td>-64.95000</td>\n",
       "      <td>(-33.166670, -64.950000)</td>\n",
       "    </tr>\n",
       "  </tbody>\n",
       "</table>\n",
       "</div>"
      ],
      "text/plain": [
       "       name   id nametype     recclass      mass  fall  year    reclat  \\\n",
       "0    Aachen    1    Valid           L5      21.0  Fell  1970  50.77500   \n",
       "1    Aarhus    2    Valid           H6     720.0  Fell  1970  56.18333   \n",
       "2      Abee    6    Valid          EH4  107000.0  Fell  1970  54.21667   \n",
       "3  Acapulco   10    Valid  Acapulcoite    1914.0  Fell  1970  16.88333   \n",
       "4   Achiras  370    Valid           L6     780.0  Fell  1970 -33.16667   \n",
       "\n",
       "     reclong               GeoLocation  \n",
       "0    6.08333     (50.775000, 6.083330)  \n",
       "1   10.23333    (56.183330, 10.233330)  \n",
       "2 -113.00000  (54.216670, -113.000000)  \n",
       "3  -99.90000   (16.883330, -99.900000)  \n",
       "4  -64.95000  (-33.166670, -64.950000)  "
      ]
     },
     "execution_count": 30,
     "metadata": {},
     "output_type": "execute_result"
    }
   ],
   "source": [
    "dbm.head()"
   ]
  },
  {
   "cell_type": "code",
   "execution_count": 31,
   "id": "9705e5a0",
   "metadata": {},
   "outputs": [],
   "source": [
    "dbm.to_csv('teste.csv')"
   ]
  },
  {
   "cell_type": "code",
   "execution_count": 32,
   "id": "ad9f2cc0",
   "metadata": {},
   "outputs": [
    {
     "data": {
      "text/plain": [
       "DataTransformerRegistry.enable('default')"
      ]
     },
     "execution_count": 32,
     "metadata": {},
     "output_type": "execute_result"
    }
   ],
   "source": [
    "alt.data_transformers.disable_max_rows()"
   ]
  },
  {
   "cell_type": "code",
   "execution_count": 37,
   "id": "5ac79777",
   "metadata": {},
   "outputs": [
    {
     "data": {
      "text/plain": [
       "name           0\n",
       "id             0\n",
       "nametype       0\n",
       "recclass       0\n",
       "mass           0\n",
       "fall           0\n",
       "year           0\n",
       "reclat         0\n",
       "reclong        0\n",
       "GeoLocation    0\n",
       "dtype: int64"
      ]
     },
     "execution_count": 37,
     "metadata": {},
     "output_type": "execute_result"
    }
   ],
   "source": [
    "dbm.isnull().sum()"
   ]
  },
  {
   "cell_type": "code",
   "execution_count": null,
   "id": "93f6de17",
   "metadata": {},
   "outputs": [],
   "source": []
  }
 ],
 "metadata": {
  "kernelspec": {
   "display_name": "Python 3 (ipykernel)",
   "language": "python",
   "name": "python3"
  },
  "language_info": {
   "codemirror_mode": {
    "name": "ipython",
    "version": 3
   },
   "file_extension": ".py",
   "mimetype": "text/x-python",
   "name": "python",
   "nbconvert_exporter": "python",
   "pygments_lexer": "ipython3",
   "version": "3.11.5"
  }
 },
 "nbformat": 4,
 "nbformat_minor": 5
}
